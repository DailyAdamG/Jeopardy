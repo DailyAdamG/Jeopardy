{
 "cells": [
  {
   "cell_type": "code",
   "execution_count": 1,
   "metadata": {},
   "outputs": [],
   "source": [
    "import matplotlib.pyplot as plt\n",
    "import pandas as pd\n",
    "import numpy as np\n",
    "import scipy.stats as st"
   ]
  },
  {
   "cell_type": "code",
   "execution_count": 2,
   "metadata": {},
   "outputs": [],
   "source": [
    "#Original Data\n",
    "\n",
    "master_data = pd.read_csv(\"../Jeopardy/JEOPARDY_CSV.csv\")"
   ]
  },
  {
   "cell_type": "code",
   "execution_count": 3,
   "metadata": {},
   "outputs": [],
   "source": [
    "categories = master_data.groupby(\"Category\")"
   ]
  },
  {
   "cell_type": "code",
   "execution_count": 4,
   "metadata": {},
   "outputs": [],
   "source": [
    "#Finding the most popular categories by show appearances\n",
    "\n",
    "most_popular_categories = categories.nunique().sort_values(by=[\"Show Number\"], ascending = False)"
   ]
  },
  {
   "cell_type": "code",
   "execution_count": 7,
   "metadata": {},
   "outputs": [
    {
     "data": {
      "text/plain": [
       "Category\n",
       "POETS & POETRY            46\n",
       "MUSICAL INSTRUMENTS       45\n",
       "FOOD & DRINK              45\n",
       "HODGEPODGE                45\n",
       "EXPLORERS                 45\n",
       "THE CIVIL WAR             44\n",
       "SCIENTISTS                44\n",
       "MUSIC                     43\n",
       "AROUND THE WORLD          43\n",
       "MOUNTAINS                 42\n",
       "MEDICINE                  42\n",
       "U.S. STATES               41\n",
       "POTENT POTABLES           41\n",
       "4-LETTER WORDS            41\n",
       "BIOLOGY                   40\n",
       "EUROPEAN HISTORY          40\n",
       "ARTISTS                   40\n",
       "TRAVEL & TOURISM          39\n",
       "COUNTRIES OF THE WORLD    38\n",
       "MAGAZINES                 38\n",
       "ARCHITECTURE              38\n",
       "WEIGHTS & MEASURES        37\n",
       "HOMOPHONES                37\n",
       "IN THE DICTIONARY         37\n",
       "AWARDS                    37\n",
       "FIRST LADIES              37\n",
       "19th CENTURY AMERICA      35\n",
       "THE OSCARS                35\n",
       "VOCABULARY                35\n",
       "Name: Show Number, dtype: int64"
      ]
     },
     "execution_count": 7,
     "metadata": {},
     "output_type": "execute_result"
    }
   ],
   "source": [
    "#Most popular categories list\n",
    "\n",
    "most_popular_categories[\"Show Number\"][61:90]"
   ]
  },
  {
   "cell_type": "code",
   "execution_count": 6,
   "metadata": {},
   "outputs": [],
   "source": [
    "answers = master_data.groupby(\"Answer\")"
   ]
  },
  {
   "cell_type": "code",
   "execution_count": 7,
   "metadata": {},
   "outputs": [],
   "source": [
    "#Finding the most popular answers by show appearances\n",
    "\n",
    "most_popular_answers = answers.nunique().sort_values(by=[\"Show Number\"], ascending = False)"
   ]
  },
  {
   "cell_type": "code",
   "execution_count": 8,
   "metadata": {},
   "outputs": [
    {
     "data": {
      "text/plain": [
       "Answer\n",
       "China                           216\n",
       "Australia                       215\n",
       "Japan                           196\n",
       "Chicago                         193\n",
       "France                          192\n",
       "                               ... \n",
       "No Name                           1\n",
       "No Parking                        1\n",
       "No Reservations                   1\n",
       "No Shoes                          1\n",
       "“one giant leap for mankind”      1\n",
       "Name: Show Number, Length: 88236, dtype: int64"
      ]
     },
     "execution_count": 8,
     "metadata": {},
     "output_type": "execute_result"
    }
   ],
   "source": [
    "#Most popular answers list\n",
    "\n",
    "most_popular_answers[\"Show Number\"]"
   ]
  },
  {
   "cell_type": "code",
   "execution_count": 9,
   "metadata": {},
   "outputs": [],
   "source": [
    "#CSV for most popular answers\n",
    "\n",
    "most_popular_answers[\"Show Number\"].to_csv(\"output data/Most Popular Answers.csv\")"
   ]
  },
  {
   "cell_type": "code",
   "execution_count": 10,
   "metadata": {},
   "outputs": [],
   "source": [
    "#Only looking at opera category\n",
    "\n",
    "opera_category = master_data.loc[master_data[\"Category\"] == \"OPERA\"]"
   ]
  },
  {
   "cell_type": "code",
   "execution_count": 11,
   "metadata": {},
   "outputs": [],
   "source": [
    "opera_category.to_csv(\"output data/Opera Data.csv\")"
   ]
  },
  {
   "cell_type": "code",
   "execution_count": 16,
   "metadata": {},
   "outputs": [],
   "source": [
    "#Only looking at opera category\n",
    "\n",
    "word_origins_category = master_data.loc[master_data[\"Category\"] == \"WORD ORIGINS\"]"
   ]
  },
  {
   "cell_type": "code",
   "execution_count": 18,
   "metadata": {},
   "outputs": [],
   "source": [
    "word_origins_category.to_csv(\"output data/Word Origins Data.csv\")"
   ]
  },
  {
   "cell_type": "code",
   "execution_count": null,
   "metadata": {},
   "outputs": [],
   "source": []
  }
 ],
 "metadata": {
  "kernelspec": {
   "display_name": "Python 3",
   "language": "python",
   "name": "python3"
  },
  "language_info": {
   "codemirror_mode": {
    "name": "ipython",
    "version": 3
   },
   "file_extension": ".py",
   "mimetype": "text/x-python",
   "name": "python",
   "nbconvert_exporter": "python",
   "pygments_lexer": "ipython3",
   "version": "3.8.3"
  }
 },
 "nbformat": 4,
 "nbformat_minor": 4
}
