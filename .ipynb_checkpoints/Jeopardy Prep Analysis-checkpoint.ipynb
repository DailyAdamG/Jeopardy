{
 "cells": [
  {
   "cell_type": "code",
   "execution_count": 1,
   "metadata": {},
   "outputs": [],
   "source": [
    "import matplotlib.pyplot as plt\n",
    "import pandas as pd\n",
    "import numpy as np\n",
    "import scipy.stats as st"
   ]
  },
  {
   "cell_type": "code",
   "execution_count": 2,
   "metadata": {},
   "outputs": [],
   "source": [
    "#Original Data\n",
    "\n",
    "master_data = pd.read_csv(\"../Jeopardy/JEOPARDY_CSV.csv\")"
   ]
  },
  {
   "cell_type": "code",
   "execution_count": 3,
   "metadata": {},
   "outputs": [],
   "source": [
    "categories = master_data.groupby(\"Category\")"
   ]
  },
  {
   "cell_type": "code",
   "execution_count": 5,
   "metadata": {},
   "outputs": [],
   "source": [
    "#Finding the most popular categories by show appearances\n",
    "\n",
    "most_popular_categories = categories.nunique().sort_values(by=[\"Show Number\"], ascending = False)"
   ]
  },
  {
   "cell_type": "code",
   "execution_count": 7,
   "metadata": {},
   "outputs": [
    {
     "data": {
      "text/plain": [
       "Category\n",
       "U.S. HISTORY              61\n",
       "PEOPLE                    60\n",
       "AMERICAN LITERATURE       59\n",
       "HISTORIC NAMES            59\n",
       "GEOGRAPHY                 57\n",
       "ART                       57\n",
       "RHYME TIME                56\n",
       "FOOD                      55\n",
       "ART & ARTISTS             55\n",
       "BOOKS & AUTHORS           54\n",
       "STUPID ANSWERS            54\n",
       "THE MOVIES                54\n",
       "HOLIDAYS & OBSERVANCES    54\n",
       "MUSEUMS                   53\n",
       "ORGANIZATIONS             52\n",
       "CLASSICAL MUSIC           52\n",
       "POP MUSIC                 52\n",
       "WORLD LEADERS             51\n",
       "WORLD CITIES              51\n",
       "ANNUAL EVENTS             51\n",
       "FAMOUS AMERICANS          51\n",
       "COMMON BONDS              50\n",
       "COMPOSERS                 50\n",
       "SCIENCE & NATURE          49\n",
       "MYTHOLOGY                 48\n",
       "3-LETTER WORDS            48\n",
       "ASTRONOMY                 47\n",
       "NONFICTION                47\n",
       "FAMOUS NAMES              47\n",
       "Name: Show Number, dtype: int64"
      ]
     },
     "execution_count": 7,
     "metadata": {},
     "output_type": "execute_result"
    }
   ],
   "source": [
    "#Most popular categories list\n",
    "\n",
    "most_popular_categories[\"Show Number\"][31:60]"
   ]
  },
  {
   "cell_type": "code",
   "execution_count": 6,
   "metadata": {},
   "outputs": [],
   "source": [
    "answers = master_data.groupby(\"Answer\")"
   ]
  },
  {
   "cell_type": "code",
   "execution_count": 7,
   "metadata": {},
   "outputs": [],
   "source": [
    "#Finding the most popular answers by show appearances\n",
    "\n",
    "most_popular_answers = answers.nunique().sort_values(by=[\"Show Number\"], ascending = False)"
   ]
  },
  {
   "cell_type": "code",
   "execution_count": 8,
   "metadata": {},
   "outputs": [
    {
     "data": {
      "text/plain": [
       "Answer\n",
       "China                           216\n",
       "Australia                       215\n",
       "Japan                           196\n",
       "Chicago                         193\n",
       "France                          192\n",
       "                               ... \n",
       "No Name                           1\n",
       "No Parking                        1\n",
       "No Reservations                   1\n",
       "No Shoes                          1\n",
       "“one giant leap for mankind”      1\n",
       "Name: Show Number, Length: 88236, dtype: int64"
      ]
     },
     "execution_count": 8,
     "metadata": {},
     "output_type": "execute_result"
    }
   ],
   "source": [
    "#Most popular answers list\n",
    "\n",
    "most_popular_answers[\"Show Number\"]"
   ]
  },
  {
   "cell_type": "code",
   "execution_count": 9,
   "metadata": {},
   "outputs": [],
   "source": [
    "#CSV for most popular answers\n",
    "\n",
    "most_popular_answers[\"Show Number\"].to_csv(\"output data/Most Popular Answers.csv\")"
   ]
  },
  {
   "cell_type": "code",
   "execution_count": 10,
   "metadata": {},
   "outputs": [],
   "source": [
    "#Only looking at opera category\n",
    "\n",
    "opera_category = master_data.loc[master_data[\"Category\"] == \"OPERA\"]"
   ]
  },
  {
   "cell_type": "code",
   "execution_count": 11,
   "metadata": {},
   "outputs": [],
   "source": [
    "opera_category.to_csv(\"output data/Opera Data.csv\")"
   ]
  },
  {
   "cell_type": "code",
   "execution_count": 16,
   "metadata": {},
   "outputs": [],
   "source": [
    "#Only looking at opera category\n",
    "\n",
    "word_origins_category = master_data.loc[master_data[\"Category\"] == \"WORD ORIGINS\"]"
   ]
  },
  {
   "cell_type": "code",
   "execution_count": 18,
   "metadata": {},
   "outputs": [],
   "source": [
    "word_origins_category.to_csv(\"output data/Word Origins Data.csv\")"
   ]
  },
  {
   "cell_type": "code",
   "execution_count": null,
   "metadata": {},
   "outputs": [],
   "source": []
  }
 ],
 "metadata": {
  "kernelspec": {
   "display_name": "Python 3",
   "language": "python",
   "name": "python3"
  },
  "language_info": {
   "codemirror_mode": {
    "name": "ipython",
    "version": 3
   },
   "file_extension": ".py",
   "mimetype": "text/x-python",
   "name": "python",
   "nbconvert_exporter": "python",
   "pygments_lexer": "ipython3",
   "version": "3.8.3"
  }
 },
 "nbformat": 4,
 "nbformat_minor": 4
}
