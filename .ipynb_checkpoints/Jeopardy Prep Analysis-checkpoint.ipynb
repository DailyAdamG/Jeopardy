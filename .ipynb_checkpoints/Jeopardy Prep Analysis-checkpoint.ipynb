{
 "cells": [
  {
   "cell_type": "code",
   "execution_count": 12,
   "metadata": {},
   "outputs": [],
   "source": [
    "import matplotlib.pyplot as plt\n",
    "import pandas as pd\n",
    "import numpy as np\n",
    "import scipy.stats as st"
   ]
  },
  {
   "cell_type": "code",
   "execution_count": 13,
   "metadata": {},
   "outputs": [],
   "source": [
    "#Original Data\n",
    "\n",
    "master_data = pd.read_csv(\"../Jeopardy/JEOPARDY_CSV.csv\")"
   ]
  },
  {
   "cell_type": "code",
   "execution_count": 28,
   "metadata": {},
   "outputs": [],
   "source": [
    "categories = master_data.groupby(\"Category\")"
   ]
  },
  {
   "cell_type": "code",
   "execution_count": 76,
   "metadata": {},
   "outputs": [],
   "source": [
    "#Finding the most popular categories by show appearances\n",
    "\n",
    "most_popular_categories = categories.nunique().sort_values(by=[\"Show Number\"], ascending = False)"
   ]
  },
  {
   "cell_type": "code",
   "execution_count": 47,
   "metadata": {},
   "outputs": [
    {
     "data": {
      "text/plain": [
       "Category\n",
       "BEFORE & AFTER             115\n",
       "SCIENCE                    110\n",
       "LITERATURE                 108\n",
       "WORD ORIGINS               102\n",
       "AMERICAN HISTORY            98\n",
       "STATE CAPITALS              88\n",
       "WORLD HISTORY               85\n",
       "POTPOURRI                   83\n",
       "WORLD GEOGRAPHY             83\n",
       "U.S. CITIES                 83\n",
       "BUSINESS & INDUSTRY         82\n",
       "U.S. PRESIDENTS             81\n",
       "SPORTS                      77\n",
       "WORLD CAPITALS              76\n",
       "COLLEGES & UNIVERSITIES     75\n",
       "ANIMALS                     75\n",
       "ISLANDS                     75\n",
       "FICTIONAL CHARACTERS        71\n",
       "BODIES OF WATER             71\n",
       "HISTORY                     70\n",
       "RELIGION                    69\n",
       "AUTHORS                     68\n",
       "U.S. GEOGRAPHY              67\n",
       "OPERA                       67\n",
       "SHAKESPEARE                 66\n",
       "TELEVISION                  65\n",
       "TRANSPORTATION              64\n",
       "BALLET                      63\n",
       "AMERICANA                   63\n",
       "LANGUAGES                   62\n",
       "THE BIBLE                   61\n",
       "U.S. HISTORY                61\n",
       "PEOPLE                      60\n",
       "AMERICAN LITERATURE         59\n",
       "HISTORIC NAMES              59\n",
       "GEOGRAPHY                   57\n",
       "ART                         57\n",
       "RHYME TIME                  56\n",
       "FOOD                        55\n",
       "ART & ARTISTS               55\n",
       "BOOKS & AUTHORS             54\n",
       "STUPID ANSWERS              54\n",
       "THE MOVIES                  54\n",
       "HOLIDAYS & OBSERVANCES      54\n",
       "MUSEUMS                     53\n",
       "ORGANIZATIONS               52\n",
       "CLASSICAL MUSIC             52\n",
       "POP MUSIC                   52\n",
       "WORLD LEADERS               51\n",
       "WORLD CITIES                51\n",
       "Name: Show Number, dtype: int64"
      ]
     },
     "execution_count": 47,
     "metadata": {},
     "output_type": "execute_result"
    }
   ],
   "source": [
    "#Most popular categories list\n",
    "\n",
    "most_popular_categories[\"Show Number\"].head(50)"
   ]
  },
  {
   "cell_type": "code",
   "execution_count": 104,
   "metadata": {},
   "outputs": [],
   "source": [
    "answers = master_data.groupby(\"Answer\")"
   ]
  },
  {
   "cell_type": "code",
   "execution_count": 107,
   "metadata": {},
   "outputs": [],
   "source": [
    "#Finding the most popular answers by show appearances\n",
    "\n",
    "most_popular_answers = answers.nunique().sort_values(by=[\"Show Number\"], ascending = False)"
   ]
  },
  {
   "cell_type": "code",
   "execution_count": 110,
   "metadata": {},
   "outputs": [
    {
     "data": {
      "text/plain": [
       "Answer\n",
       "China                           216\n",
       "Australia                       215\n",
       "Japan                           196\n",
       "Chicago                         193\n",
       "France                          192\n",
       "                               ... \n",
       "No Name                           1\n",
       "No Parking                        1\n",
       "No Reservations                   1\n",
       "No Shoes                          1\n",
       "“one giant leap for mankind”      1\n",
       "Name: Show Number, Length: 88236, dtype: int64"
      ]
     },
     "execution_count": 110,
     "metadata": {},
     "output_type": "execute_result"
    }
   ],
   "source": [
    "#Most popular answers list\n",
    "\n",
    "most_popular_answers[\"Show Number\"]"
   ]
  },
  {
   "cell_type": "code",
   "execution_count": 112,
   "metadata": {},
   "outputs": [],
   "source": [
    "#CSV for most popular answers\n",
    "\n",
    "most_popular_answers[\"Show Number\"].to_csv(\"output data/Most Popular Answers.csv\")"
   ]
  },
  {
   "cell_type": "code",
   "execution_count": 115,
   "metadata": {},
   "outputs": [],
   "source": [
    "#Only looking at opera category\n",
    "\n",
    "opera_category = master_data.loc[master_data[\"Category\"] == \"OPERA\"]"
   ]
  },
  {
   "cell_type": "code",
   "execution_count": 125,
   "metadata": {},
   "outputs": [],
   "source": [
    "opera_category.to_csv(\"output data/Opera Data.csv\")"
   ]
  },
  {
   "cell_type": "code",
   "execution_count": null,
   "metadata": {},
   "outputs": [],
   "source": []
  },
  {
   "cell_type": "code",
   "execution_count": null,
   "metadata": {},
   "outputs": [],
   "source": []
  }
 ],
 "metadata": {
  "kernelspec": {
   "display_name": "Python 3",
   "language": "python",
   "name": "python3"
  },
  "language_info": {
   "codemirror_mode": {
    "name": "ipython",
    "version": 3
   },
   "file_extension": ".py",
   "mimetype": "text/x-python",
   "name": "python",
   "nbconvert_exporter": "python",
   "pygments_lexer": "ipython3",
   "version": "3.6.10"
  }
 },
 "nbformat": 4,
 "nbformat_minor": 4
}
